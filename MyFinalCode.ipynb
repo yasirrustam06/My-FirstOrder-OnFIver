{
 "cells": [
  {
   "cell_type": "code",
   "execution_count": 48,
   "id": "a7dc51ac",
   "metadata": {},
   "outputs": [],
   "source": [
    "# importing the packages\n",
    "import pandas as pd\n",
    "import re\n"
   ]
  },
  {
   "cell_type": "code",
   "execution_count": 49,
   "id": "a8e7e6e9",
   "metadata": {},
   "outputs": [],
   "source": [
    "def ReadingData(path):\n",
    "     #step  1.reading the given csv file...\n",
    "    dataFrame=pd.read_csv(path) \n",
    "     \n",
    "     #step 2.seprarting the zipcode numbered values from string in columns region...\n",
    "    dataframe['Zip_Code'] = dataframe['region'].astype('str').str.extractall('(\\d+)').unstack().fillna('').sum(axis=1).astype(int)\n",
    "    \n",
    "     # step 3. Now seprating the region_id and zipcode column from whole dataset...\n",
    "        \n",
    "    newFrame=dataframe[['region_id','Zip_Code']]\n",
    "     \n",
    "     # step 4. deleting all the rows having No zipcode for region_id  using dropna Function\n",
    "    myFrame=newFrame.dropna()\n",
    "    \n",
    "     # step 5. saving this Filter DataFrame into our Local Directory using .to_csv method\n",
    "    myFrame.to_csv(\"MyDataFrame.csv\",index=False)\n",
    "    \n",
    "    # step 6. showing the result after doing all the stuffs \n",
    "    print(myFrame)\n"
   ]
  },
  {
   "cell_type": "code",
   "execution_count": 50,
   "id": "c67c2235",
   "metadata": {},
   "outputs": [
    {
     "name": "stdout",
     "output_type": "stream",
     "text": [
      "       region_id  Zip_Code\n",
      "0          99999   98847.0\n",
      "1          99998   98846.0\n",
      "2          99997   98845.0\n",
      "3          99996   98844.0\n",
      "4          99995   98843.0\n",
      "...          ...       ...\n",
      "79198     100004   98852.0\n",
      "79199     100003   98851.0\n",
      "79200     100002   98850.0\n",
      "79201     100001   98849.0\n",
      "79202     100000   98848.0\n",
      "\n",
      "[31249 rows x 2 columns]\n"
     ]
    }
   ],
   "source": [
    "\n",
    "#  step 6. calling the Function and providing the path\n",
    "ReadingData('C:\\\\Users\\\\hp\\\\Desktop\\\\project\\\\zillow_regions.csv')"
   ]
  },
  {
   "cell_type": "code",
   "execution_count": 45,
   "id": "fa42e0e6",
   "metadata": {},
   "outputs": [],
   "source": []
  },
  {
   "cell_type": "code",
   "execution_count": null,
   "id": "45c72d8f",
   "metadata": {},
   "outputs": [],
   "source": []
  },
  {
   "cell_type": "code",
   "execution_count": null,
   "id": "579ad748",
   "metadata": {},
   "outputs": [],
   "source": []
  }
 ],
 "metadata": {
  "kernelspec": {
   "display_name": "Python 3 (ipykernel)",
   "language": "python",
   "name": "python3"
  },
  "language_info": {
   "codemirror_mode": {
    "name": "ipython",
    "version": 3
   },
   "file_extension": ".py",
   "mimetype": "text/x-python",
   "name": "python",
   "nbconvert_exporter": "python",
   "pygments_lexer": "ipython3",
   "version": "3.8.12"
  }
 },
 "nbformat": 4,
 "nbformat_minor": 5
}
